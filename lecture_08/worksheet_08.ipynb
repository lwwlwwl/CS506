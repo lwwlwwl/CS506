{
  "cells": [
    {
      "attachments": {},
      "cell_type": "markdown",
      "metadata": {},
      "source": [
        "# Worksheet 08\n",
        "\n",
        "Name: Yuchen Lu \\\n",
        "UID: U56150111\n",
        "\n",
        "### Topics\n",
        "\n",
        "- Soft Clustering\n",
        "- Clustering Aggregation\n",
        "\n",
        "### Probability Review\n",
        "\n",
        "Read through [the following](https://medium.com/@gallettilance/overview-of-probability-3272b72c82c8)\n",
        "\n",
        "### Soft Clustering\n",
        "\n",
        "We generate 10 data points that come from a normal distribution with mean 5 and variance 1."
      ]
    },
    {
      "cell_type": "code",
      "execution_count": 7,
      "metadata": {},
      "outputs": [
        {
          "name": "stdout",
          "output_type": "stream",
          "text": [
            "[6.290422492034789, 4.160522895905762, 5.203719721359623, 7.175245436772379, 5.860775143209372, 4.029064272228796, 3.4454305391402684, 5.319942560591727, 7.287297915055268, 4.38523443722263]\n"
          ]
        }
      ],
      "source": [
        "import random\n",
        "import numpy as np\n",
        "from sklearn.cluster import KMeans\n",
        "\n",
        "mean = 5\n",
        "stdev = 1\n",
        "\n",
        "s1 = np.random.normal(mean, stdev, 10).tolist()\n",
        "print(s1)"
      ]
    },
    {
      "cell_type": "markdown",
      "metadata": {},
      "source": [
        "a) Generate 10 more data points, this time coming from a normal distribution with mean 8 and variance 1."
      ]
    },
    {
      "cell_type": "code",
      "execution_count": 8,
      "metadata": {},
      "outputs": [
        {
          "name": "stdout",
          "output_type": "stream",
          "text": [
            "[9.582367903333637, 8.16932346763817, 7.6412129929905035, 8.768689562468364, 7.454546915494593, 8.533785888439626, 8.862339246316795, 7.82834802684151, 7.489810502035363, 9.235785028774712]\n"
          ]
        }
      ],
      "source": [
        "c2 = np.random.normal( 8 , 1 , 10 ).tolist()\n",
        "print(c2)"
      ]
    },
    {
      "cell_type": "markdown",
      "metadata": {},
      "source": [
        "b) Flip a fair coin 10 times. If the coin lands on H, then pick the last data point of `c1` and remove it from `c1`, if T then pick the last data point from `c2` and remove it from `c2`. Add these 10 points to a list called `data`."
      ]
    },
    {
      "cell_type": "code",
      "execution_count": 9,
      "metadata": {},
      "outputs": [
        {
          "name": "stdout",
          "output_type": "stream",
          "text": [
            "[9.235785028774712, 4.38523443722263, 7.287297915055268, 7.489810502035363, 5.319942560591727, 3.4454305391402684, 7.82834802684151, 8.862339246316795, 8.533785888439626, 7.454546915494593]\n"
          ]
        }
      ],
      "source": [
        "data = []\n",
        "for i in range(10):\n",
        "    # flip coin\n",
        "    coin_output = random.choice([0, 1])\n",
        "    if coin_output == 0:\n",
        "        p1 = c1.pop()\n",
        "        data.append(p1)\n",
        "    else:\n",
        "        p2 = c2.pop()\n",
        "        data.append(p2)\n",
        "print(data)"
      ]
    },
    {
      "cell_type": "markdown",
      "metadata": {},
      "source": [
        "c) This `data` is a Gaussian Mixture Distribution with 2 mixture components. Over the next few questions we will walk through the GMM algorithm to see if we can uncover the parameters we used to generate this data. First, please list all these parameters of the GMM that created `data` and the values we know they have."
      ]
    },
    {
      "cell_type": "markdown",
      "metadata": {},
      "source": [
        "We know the mean, variance, and the probability of each component.\n",
        "For c1, the mean is 5, the variance is 1, and the probability is 0.5. \n",
        "For c2, the mean is 8, the variance is 1, and the probability is 0.5."
      ]
    },
    {
      "cell_type": "markdown",
      "metadata": {},
      "source": [
        "d) Let's assume there are two mixture components (note: we could plot the data and make the observation that there are two clusters). The EM algorithm asks us to start with a random `mean_j`, `variance_j`, `P(S_j)` for each component j. One method we could use to find sensible values for these is to apply K means with k=2 here.\n",
        "\n",
        "1. the centroids would be the estimates of the `mean_j`\n",
        "2. the intra-cluster variance could be the estimate of `variance_j`\n",
        "3. the proportion of points in each cluster could be the estimate of `P(S_j)`\n",
        "\n",
        "Go through this process and list the parameter estimates it gives. Are they close or far from the true values?"
      ]
    },
    {
      "cell_type": "code",
      "execution_count": 10,
      "metadata": {},
      "outputs": [
        {
          "name": "stdout",
          "output_type": "stream",
          "text": [
            "[9.235785028774712, 7.287297915055268, 7.489810502035363, 7.82834802684151, 8.862339246316795, 8.533785888439626, 7.454546915494593]\n",
            "[4.38523443722263, 5.319942560591727, 3.4454305391402684]\n",
            "P(C_1) = 0.7,  P(C_2) = 0.3\n",
            "mean_1 = 8.098844788993981,  mean_2 = 4.383535845651542\n",
            "var_1 = 0.5117928563720008,  var_2 = 0.5856339957010016\n"
          ]
        },
        {
          "name": "stderr",
          "output_type": "stream",
          "text": [
            "/opt/homebrew/lib/python3.11/site-packages/sklearn/cluster/_kmeans.py:870: FutureWarning: The default value of `n_init` will change from 10 to 'auto' in 1.4. Set the value of `n_init` explicitly to suppress the warning\n",
            "  warnings.warn(\n"
          ]
        }
      ],
      "source": [
        "kmeans = KMeans(2, init='k-means++').fit(X=np.array(data).reshape(-1, 1))\n",
        "\n",
        "c1 = [x[0] for x in filter(lambda x: x[1] == 0, zip(data, kmeans.labels_))]\n",
        "print(c1)\n",
        "c2 = [x[0] for x in filter(lambda x: x[1] == 1, zip(data, kmeans.labels_))]\n",
        "print(c2)\n",
        "\n",
        "prob_c = [ len(c1) / (len(c1) + len(c2)) , len(c2) / (len(c1) + len(c2)) ]\n",
        "mean = [ sum(c1)/len(c1) , sum(c2)/len(c2) ]\n",
        "var = [ sum(map(lambda x : (x - mean[0])**2, c1)) / len(c1) , sum(map(lambda x : (x - mean[1])**2, c2)) / len(c2) ]\n",
        "\n",
        "print(\"P(S_1) = \" + str(prob_s[0]) + \",  P(S_2) = \" + str(prob_s[1]))\n",
        "print(\"mean_1 = \" + str(mean[0]) + \",  mean_2 = \" + str(mean[1]))\n",
        "print(\"var_1 = \" + str(var[0]) + \",  var_2 = \" + str(var[1]))"
      ]
    },
    {
      "cell_type": "markdown",
      "metadata": {},
      "source": [
        "The actual value for mean is 5 and 8, and the estimated value is 4.9 and 8.1. They are close to the true values. The actual value for variance is 1 and 1, and the estimated value is 0.51 and 0.58, which is not really close. The actual value for P(C_j) is 0.5 and 0.5, and the estimated value is 0.7 and 0.3, which is not as close."
      ]
    },
    {
      "cell_type": "markdown",
      "metadata": {},
      "source": [
        "e) For each data point, compute `P(S_j | X_i)`. Comment on which cluster you think each point belongs to based on the estimated probabilities. How does that compare to the truth?"
      ]
    },
    {
      "cell_type": "code",
      "execution_count": 12,
      "metadata": {},
      "outputs": [
        {
          "name": "stdout",
          "output_type": "stream",
          "text": [
            "point =  9.235785028774712\n",
            "probability of observing that point if it came from cluster 0 =  0.06609901744172739\n",
            "probability of observing that point if it came from cluster 1 =  8.440396437300413e-16\n",
            "point =  4.38523443722263\n",
            "probability of observing that point if it came from cluster 0 =  2.876467960677449e-12\n",
            "probability of observing that point if it came from cluster 1 =  0.6812114823958105\n",
            "point =  7.287297915055268\n",
            "probability of observing that point if it came from cluster 0 =  0.22172531366291287\n",
            "probability of observing that point if it came from cluster 1 =  3.1241196707493237e-06\n",
            "point =  7.489810502035363\n",
            "probability of observing that point if it came from cluster 0 =  0.38398374733503804\n",
            "probability of observing that point if it came from cluster 1 =  5.298150496473375e-07\n",
            "point =  5.319942560591727\n",
            "probability of observing that point if it came from cluster 0 =  3.0893271032614335e-07\n",
            "probability of observing that point if it came from cluster 1 =  0.18971760919953734\n",
            "point =  3.4454305391402684\n",
            "probability of observing that point if it came from cluster 0 =  8.708871130814893e-19\n",
            "probability of observing that point if it came from cluster 1 =  0.18883900211632762\n",
            "point =  7.82834802684151\n",
            "probability of observing that point if it came from cluster 0 =  0.6778874229176214\n",
            "probability of observing that point if it came from cluster 1 =  2.0890414420721043e-08\n",
            "point =  8.862339246316795\n",
            "probability of observing that point if it came from cluster 0 =  0.25618836533480666\n",
            "probability of observing that point if it came from cluster 1 =  1.3571861384293738e-13\n",
            "point =  8.533785888439626\n",
            "probability of observing that point if it came from cluster 0 =  0.5432336976422681\n",
            "probability of observing that point if it came from cluster 1 =  8.465756173212559e-12\n",
            "point =  7.454546915494593\n",
            "probability of observing that point if it came from cluster 0 =  0.35291700349354027\n",
            "probability of observing that point if it came from cluster 1 =  7.278533262021076e-07\n",
            "9.235785028774712\n",
            "Probability of coming from C_1 = 0.9999999999999946\n",
            "Probability of coming from C_2 = 5.4725666111936116e-15\n",
            "\n",
            "4.38523443722263\n",
            "Probability of coming from C_1 = 9.852679745272003e-12\n",
            "Probability of coming from C_2 = 0.9999999999901473\n",
            "\n",
            "7.287297915055268\n",
            "Probability of coming from C_1 = 0.9999939614457045\n",
            "Probability of coming from C_2 = 6.038554295543378e-06\n",
            "\n",
            "7.489810502035363\n",
            "Probability of coming from C_1 = 0.9999994086638823\n",
            "Probability of coming from C_2 = 5.913361177679697e-07\n",
            "\n",
            "5.319942560591727\n",
            "Probability of coming from C_1 = 3.799543199644514e-06\n",
            "Probability of coming from C_2 = 0.9999962004568004\n",
            "\n",
            "3.4454305391402684\n",
            "Probability of coming from C_1 = 1.0760859291512723e-17\n",
            "Probability of coming from C_2 = 1.0\n",
            "\n",
            "7.82834802684151\n",
            "Probability of coming from C_1 = 0.9999999867927412\n",
            "Probability of coming from C_2 = 1.3207258802588139e-08\n",
            "\n",
            "8.862339246316795\n",
            "Probability of coming from C_1 = 0.999999999999773\n",
            "Probability of coming from C_2 = 2.2704044402006267e-13\n",
            "\n",
            "8.533785888439626\n",
            "Probability of coming from C_1 = 0.9999999999933211\n",
            "Probability of coming from C_2 = 6.678858901452216e-12\n",
            "\n",
            "7.454546915494593\n",
            "Probability of coming from C_1 = 0.9999991161183479\n",
            "Probability of coming from C_2 = 8.838816520527848e-07\n",
            "\n"
          ]
        }
      ],
      "source": [
        "from scipy.stats import norm\n",
        "\n",
        "prob_s0_x = [] # P(S_0 | X_i)\n",
        "prob_s1_x = [] # P(S_1 | X_i)\n",
        "prob_x = [] # P(X_i)\n",
        "\n",
        "k = 2\n",
        "\n",
        "for p in data:\n",
        "    print(\"point = \", p)\n",
        "    pdf_i = []\n",
        "\n",
        "    for j in range(k):\n",
        "        # P(X_i | S_j)\n",
        "        pdf_i.append(norm.pdf(p, mean[j], var[j]))\n",
        "        print(\"probability of observing that point if it came from cluster \" + str(j) + \" = \", pdf_i[j])\n",
        "        # P(S_j) already computed\n",
        "        prob_s[j]\n",
        "\n",
        "    # P(X_i) = P(S_0)P(X_i | S_0) + P(S_1)P(X_i | S_1)\n",
        "    prob_x = prob_s[0] * pdf_i[0] + prob_s[1] * pdf_i[1]\n",
        "\n",
        "    # P(C_j | X_i) = P(X_i | C_j)P(C_j) / P(X_i)\n",
        "    prob_c0_x.append( pdf_i[0] * prob_c[0] / prob_x )\n",
        "    prob_c1_x.append( pdf_i[1] * prob_c[1] / prob_x )\n",
        "\n",
        "probs = zip(data, prob_s0_x, prob_s1_x)\n",
        "for p in probs:\n",
        "    print(p[0])\n",
        "    print(\"Probability of coming from S_1 = \" + str(p[1]))\n",
        "    print(\"Probability of coming from S_2 = \" + str(p[2]))\n",
        "    print()\n"
      ]
    },
    {
      "cell_type": "markdown",
      "metadata": {},
      "source": [
        "f) Having computed `P(S_j | X_i)`, update the estimates of `mean_j`, `var_j`, and `P(S_j)`. How different are these values from the original ones you got from K means? briefly comment."
      ]
    },
    {
      "cell_type": "code",
      "execution_count": 13,
      "metadata": {},
      "outputs": [
        {
          "name": "stdout",
          "output_type": "stream",
          "text": [
            "P(C_1) = 0.6999996272566816,  P(C_2) = 0.30000037274331826\n",
            "mean_1 = 8.098844114018005,  mean_2 = 4.3835420367755695\n",
            "var_1 = 0.511796668480175,  var_2 = 0.5856538623438665\n"
          ]
        }
      ],
      "source": [
        "prob_c = [sum(prob_c0_x)/ len(prob_c0_x), sum(prob_c1_x)/ len(prob_c1_x) ]\n",
        "mean = [sum([x[0] * x[1] for x in zip(prob_c0_x, data)]) / sum(prob_c0_x), sum([x[0] * x[1] for x in zip(prob_c1_x, data)]) / sum(prob_c1_x)]\n",
        "var = [sum([x[0] * (x[1] - mean[0])**2 for x in zip(prob_c0_x, data)]) / sum(prob_c0_x), sum([x[0] * (x[1] - mean[1])**2 for x in zip(prob_c1_x, data)]) / sum(prob_c1_x)]\n",
        "\n",
        "print(\"P(S_1) = \" + str(prob_s[0]) + \",  P(S_2) = \" + str(prob_s[1]))\n",
        "print(\"mean_1 = \" + str(mean[0]) + \",  mean_2 = \" + str(mean[1]))\n",
        "print(\"var_1 = \" + str(var[0]) + \",  var_2 = \" + str(var[1]))"
      ]
    },
    {
      "cell_type": "markdown",
      "metadata": {},
      "source": [
        "The mean_j is 4.4 and 8.1, which is close to the original value. The variance_j is 0.51 and 0.58, which is not close to the original value. The P(C_j) is 0.7 and 0.3, which is not close to the original value."
      ]
    },
    {
      "cell_type": "markdown",
      "metadata": {},
      "source": [
        "g) Update `P(S_j | X_i)`. Comment on any differences or lack thereof you observe."
      ]
    },
    {
      "cell_type": "code",
      "execution_count": 16,
      "metadata": {},
      "outputs": [
        {
          "name": "stdout",
          "output_type": "stream",
          "text": [
            "point =  9.235785028774712\n",
            "probability of observing that point if it came from cluster 0 =  0.06610076114557013\n",
            "probability of observing that point if it came from cluster 1 =  8.460528319088651e-16\n",
            "point =  4.38523443722263\n",
            "probability of observing that point if it came from cluster 0 =  2.877602339348398e-12\n",
            "probability of observing that point if it came from cluster 1 =  0.6811883952740259\n",
            "point =  7.287297915055268\n",
            "probability of observing that point if it came from cluster 0 =  0.22172827844458953\n",
            "probability of observing that point if it came from cluster 1 =  3.126783968530824e-06\n",
            "point =  7.489810502035363\n",
            "probability of observing that point if it came from cluster 0 =  0.38398554003573526\n",
            "probability of observing that point if it came from cluster 1 =  5.303326598743782e-07\n",
            "point =  5.319942560591727\n",
            "probability of observing that point if it came from cluster 0 =  3.0900046925721927e-07\n",
            "probability of observing that point if it came from cluster 1 =  0.1897308341929567\n",
            "point =  3.4454305391402684\n",
            "probability of observing that point if it came from cluster 0 =  8.714275062800081e-19\n",
            "probability of observing that point if it came from cluster 1 =  0.1888458354893152\n",
            "point =  7.82834802684151\n",
            "probability of observing that point if it came from cluster 0 =  0.6778842566413253\n",
            "probability of observing that point if it came from cluster 1 =  2.091553876908567e-08\n",
            "point =  8.862339246316795\n",
            "probability of observing that point if it came from cluster 0 =  0.2561901997606041\n",
            "probability of observing that point if it came from cluster 1 =  1.3599453143442818e-13\n",
            "point =  8.533785888439626\n",
            "probability of observing that point if it came from cluster 0 =  0.5432319648162258\n",
            "probability of observing that point if it came from cluster 1 =  8.480538493658822e-12\n",
            "point =  7.454546915494593\n",
            "probability of observing that point if it came from cluster 0 =  0.35291912677571063\n",
            "probability of observing that point if it came from cluster 1 =  7.285482521617946e-07\n",
            "Old probabilities(c0):  [0.9999999999999946, 9.852679745272003e-12, 0.9999939614457045, 0.9999994086638823, 3.799543199644514e-06, 1.0760859291512723e-17, 0.9999999867927412, 0.999999999999773, 0.9999999999933211, 0.9999991161183479]\n",
            "New probabilities(c0):  [0.9999999999999944, 9.85688186580326e-12, 0.9999939563660469, 0.9999994080878813, 3.8001049137479815e-06, 1.0767127766546144e-17, 0.9999999867767719, 0.9999999999997725, 0.9999999999933094, 0.9999991152782054]\n",
            "Old probabilities(c1):  [5.4725666111936116e-15, 0.9999999999901473, 6.038554295543378e-06, 5.913361177679697e-07, 0.9999962004568004, 1.0, 1.3207258802588139e-08, 2.2704044402006267e-13, 6.678858901452216e-12, 8.838816520527848e-07]\n",
            "New probabilities(c1):  [5.485484707397572e-15, 0.9999999999901431, 6.043633953179048e-06, 5.919121186976799e-07, 0.9999961998950863, 1.0, 1.322322805660431e-08, 2.2750079480162756e-13, 6.690554282169611e-12, 8.847217945670769e-07]\n"
          ]
        }
      ],
      "source": [
        "prob_c0_x_new = [] # P(C_0 | X_i)\n",
        "prob_c1_x_new = [] # P(C_1 | X_i)\n",
        "\n",
        "for p in data:\n",
        "    print(\"point = \", p)\n",
        "    pdf_i = []\n",
        "\n",
        "    for j in range(k):\n",
        "        # P(X_i | C_j)\n",
        "        pdf_i.append(norm.pdf(p, mean[j], var[j]))\n",
        "        print(\"probability of observing that point if it came from cluster \" + str(j) + \" = \", pdf_i[j])\n",
        "        # P(C_j) already computed\n",
        "        prob_c[j]\n",
        "\n",
        "    # P(X_i) = P(C_0)P(X_i | C_0) + P(C_1)P(X_i | C_1)\n",
        "    prob_x = prob_c[0] * pdf_i[0] + prob_c[1] * pdf_i[1]\n",
        "\n",
        "    # P(C_j | X_i) = P(X_i | C_j)P(C_j) / P(X_i)\n",
        "    prob_c0_x_new.append( pdf_i[0] * prob_c[0] / prob_x )\n",
        "    prob_c1_x_new.append( pdf_i[1] * prob_c[1] / prob_x )\n",
        "\n",
        "print(\"Old probabilities(c0): \", prob_c0_x)\n",
        "print(\"New probabilities(c0): \", prob_c0_x_new)\n",
        "print(\"Old probabilities(c1): \", prob_c1_x)\n",
        "print(\"New probabilities(c1): \", prob_c1_x_new)\n"
      ]
    },
    {
      "cell_type": "markdown",
      "metadata": {},
      "source": [
        "There is not much difference between the updated P(C_j | X_i) and the original P(C_j | X_i)."
      ]
    },
    {
      "cell_type": "markdown",
      "metadata": {},
      "source": [
        "h) Use `P(S_j | X_i)` to create a hard assignment - label each point as belonging to a specific cluster (0 or 1)"
      ]
    },
    {
      "cell_type": "code",
      "execution_count": 25,
      "metadata": {},
      "outputs": [
        {
          "name": "stdout",
          "output_type": "stream",
          "text": [
            "Data Point       | Cluster Assignment\n",
            "9.235785028774712 | 0\n",
            "4.38523443722263 | 1\n",
            "7.287297915055268 | 0\n",
            "7.489810502035363 | 0\n",
            "5.319942560591727 | 1\n",
            "3.4454305391402684 | 1\n",
            "7.82834802684151 | 0\n",
            "8.862339246316795 | 0\n",
            "8.533785888439626 | 0\n",
            "7.454546915494593 | 0\n"
          ]
        }
      ],
      "source": [
        "assignment = []\n",
        "\n",
        "for i in range(len(data)):\n",
        "    if prob_c0_x_new[i] > prob_c1_x_new[i]:\n",
        "        assignment.append(0)\n",
        "    else:\n",
        "        assignment.append(1)\n",
        "\n",
        "print(\"Data Point       | Cluster Assignment\")\n",
        "for data_point, cluster in zip(data, assignment):\n",
        "    print(f\"{data_point} | {cluster}\")"
      ]
    },
    {
      "cell_type": "markdown",
      "metadata": {},
      "source": [
        "### Clustering Aggregation\n",
        "\n",
        "| Point | C | P |\n",
        "|-------|---|---|\n",
        "| A     | 0 | a |\n",
        "| B     | 0 | b |\n",
        "| C     | 2 | b |\n",
        "| D     | 1 | c |\n",
        "| E     | 1 | d |\n",
        "\n",
        "a) Fill in the following table where for each pair of points determine whether C and P agree or disagree on how to cluster that pair."
      ]
    },
    {
      "cell_type": "markdown",
      "metadata": {},
      "source": [
        "| Pair | Disagreement |\n",
        "|------|--------------|\n",
        "| A  B |      no       |\n",
        "| A  C |      yes       |\n",
        "| A  D |      yes       |\n",
        "| A  E |      yes       |\n",
        "| B  C |      yes       |\n",
        "| B  D |      yes       |\n",
        "| B  E |      yes       |\n",
        "| C  D |      yes       |\n",
        "| C  E |      yes       |\n",
        "| D  E |      no       |\n"
      ]
    },
    {
      "cell_type": "markdown",
      "metadata": {},
      "source": [
        "As datasets become very large, this process can become computationally challenging.\n",
        "\n",
        "b) Given N points, what is the formula for the number of unique pairs of points one can create?"
      ]
    },
    {
      "cell_type": "markdown",
      "metadata": {},
      "source": [
        "$$ \\binom{N}{2} = \\frac{N!}{2!(N-2)!} \n",
        "\\\\\n",
        " \\binom{N}{2} = \\frac{N(N-1)}{2}$$\n"
      ]
    },
    {
      "cell_type": "markdown",
      "metadata": {},
      "source": [
        "Assume that clustering C clusters all points in the same cluster and clustering P clusters points as such:\n",
        "\n",
        "| Point | P |\n",
        "|-------|---|\n",
        "| A     | 0 |\n",
        "| B     | 0 |\n",
        "| C     | 0 |\n",
        "| D     | 1 |\n",
        "| E     | 1 |\n",
        "| F     | 2 |\n",
        "| G     | 2 |\n",
        "| H     | 2 |\n",
        "| I     | 2 |\n",
        "\n",
        "c) What is the maximum number of disagreements there could be for a dataset of this size? (use the formula from b)?"
      ]
    },
    {
      "cell_type": "markdown",
      "metadata": {},
      "source": [
        "\n",
        "$$\n",
        "\\text{Disagreements} = \\frac{3(3-1)}{2} = 3\n",
        "$$\n",
        "\n",
        "\n",
        "$$\n",
        "\\text{Disagreements} = \\frac{2(2-1)}{2} = 1\n",
        "$$\n",
        "\n",
        "\n",
        "$$\n",
        "\\text{Disagreements} = \\frac{4(4-1)}{2} = 6\n",
        "$$\n",
        "\n",
        "\n",
        "$$\n",
        "\\text{Total Disagreements} = 3 + 1 + 6 = 10\n",
        "$$"
      ]
    },
    {
      "cell_type": "markdown",
      "metadata": {},
      "source": [
        "d) If we look at cluster 0. There are (3 x 2) / 2 = 3 pairs that agree with C (since all points in C are in the same cluster). For each cluster, determine how many agreements there are. How many total agreements are there? How many disagreements does that mean there are between C and P?"
      ]
    },
    {
      "cell_type": "markdown",
      "metadata": {},
      "source": [
        "\n",
        "$$\n",
        "\\text{Agreements} = \\frac{3 \\times (3-1)}{2} = 3 \\\\\n",
        "\n",
        "\n",
        "\\text{Agreements} = \\frac{2 \\times (2-1)}{2} = 1\\\\\n",
        "\n",
        "\n",
        "\\text{Agreements} = \\frac{4 \\times (4-1)}{2} = 6\\\\\n",
        "$$\n",
        "$$\n",
        "So, the total number of agreements is $$\\(3 + 1 + 6 = 10\\).\\\\\n",
        "$$\n",
        "\\frac{9 \\times (9-1)}{2} = 36 \\\\\n",
        "\n",
        "\n",
        "\n",
        "\\text{Total Disagreements} = \\text{Total Pairs} - \\text{Total Agreements} = 36 - 10 = 26\n"
      ]
    },
    {
      "cell_type": "markdown",
      "metadata": {},
      "source": [
        "e) Assuming that filtering the dataset by cluster number is a computationally easy operation, describe an algorithm inspired by the above process that can efficiently compute disagreement distances on large datasets."
      ]
    },
    {
      "cell_type": "markdown",
      "metadata": {},
      "source": [
        "1. extract the data points in each distinct cluster\n",
        "2. compute the number of disagreements in each cluster by comparing all pairs of points in that cluster and checking whether they agree or disagree\n",
        "3. compute the total number of disagreements\n"
      ]
    }
  ],
  "metadata": {
    "kernelspec": {
      "display_name": "Python 3",
      "language": "python",
      "name": "python3"
    },
    "language_info": {
      "codemirror_mode": {
        "name": "ipython",
        "version": 3
      },
      "file_extension": ".py",
      "mimetype": "text/x-python",
      "name": "python",
      "nbconvert_exporter": "python",
      "pygments_lexer": "ipython3",
      "version": "3.11.5"
    },
    "orig_nbformat": 4,
    "vscode": {
      "interpreter": {
        "hash": "e7370f93d1d0cde622a1f8e1c04877d8463912d04d973331ad4851f04de6915a"
      }
    }
  },
  "nbformat": 4,
  "nbformat_minor": 2
}
